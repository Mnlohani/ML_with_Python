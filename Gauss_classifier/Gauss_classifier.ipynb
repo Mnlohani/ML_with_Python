{
 "cells": [
  {
   "cell_type": "markdown",
   "metadata": {},
   "source": [
    "# Implemention of a Gauss classifier that can distinguish between ten classes of digits\n",
    "\n",
    "Dataset (ZIP code) taken from:\n",
    "https://web.stanford.edu/%7Ehastie/ElemStatLearn/data.html\n",
    "\n",
    "We will compare the logarithm of two normal distributions to avoid an underflow."
   ]
  },
  {
   "cell_type": "code",
   "execution_count": 1,
   "metadata": {},
   "outputs": [],
   "source": [
    "import os\n",
    "import pandas as pd\n",
    "import numpy as np\n",
    "import matplotlib.pyplot as plt\n",
    "%matplotlib inline\n",
    "\n",
    "if not os.path.exists(\"zip.train\"):\n",
    "  ! wget https://web.stanford.edu/~hastie/ElemStatLearn/datasets/zip.train.gz\n",
    "  ! gunzip zip.train.gz\n",
    "    \n",
    "if not os.path.exists(\"zip.test\"):\n",
    "  ! wget https://web.stanford.edu/~hastie/ElemStatLearn/datasets/zip.test.gz\n",
    "  ! gunzip zip.test.gz"
   ]
  },
  {
   "cell_type": "code",
   "execution_count": 2,
   "metadata": {},
   "outputs": [],
   "source": [
    "def load_from_file(path):\n",
    "  df = pd.read_csv(path, header=None, sep=\" \")\n",
    "  X = df.iloc[:, 1:257].values # there is an empty string at position 257, because every line ends with a space (== separator)\n",
    "  y = df.iloc[:, 0].values\n",
    "  return X, y"
   ]
  },
  {
   "cell_type": "markdown",
   "metadata": {},
   "source": [
    "# data load"
   ]
  },
  {
   "cell_type": "code",
   "execution_count": 3,
   "metadata": {},
   "outputs": [],
   "source": [
    "# Training and test data load\n",
    "X_train, y_train = load_from_file(\"zip.train\")\n",
    "X_test, y_test = load_from_file(\"zip.test\") "
   ]
  },
  {
   "cell_type": "code",
   "execution_count": 4,
   "metadata": {},
   "outputs": [
    {
     "name": "stdout",
     "output_type": "stream",
     "text": [
      "N_train = 7291\n",
      "N_test = 2007\n"
     ]
    }
   ],
   "source": [
    "#shape of training and test set\n",
    "print(\"N_train = {}\".format(len(X_train)))\n",
    "print(\"N_test = {}\".format(len(X_test)))"
   ]
  },
  {
   "cell_type": "markdown",
   "metadata": {},
   "source": [
    "# Data Visualisation"
   ]
  },
  {
   "cell_type": "code",
   "execution_count": 5,
   "metadata": {},
   "outputs": [],
   "source": [
    "num_samples = 20\n",
    "indices = np.random.choice(range(len(X_train)), num_samples)\n",
    "sample_digits = X_train[indices]\n",
    "sample_labels = y_train[indices]"
   ]
  },
  {
   "cell_type": "code",
   "execution_count": 6,
   "metadata": {},
   "outputs": [
    {
     "data": {
      "image/png": "[encoded data removed]",
      "text/plain": [
       "<Figure size 1440x432 with 20 Axes>"
      ]
     },
     "metadata": {
      "needs_background": "light"
     },
     "output_type": "display_data"
    }
   ],
   "source": [
    "fig = plt.figure(figsize=(20, 6))\n",
    "for i in range(num_samples):\n",
    "    ax = plt.subplot(2, 10, i + 1)\n",
    "    img = sample_digits[i].reshape((16, 16))\n",
    "    plt.imshow(img, cmap='gray', vmin=-1.0, vmax=1.0)\n",
    "    plt.axis('off')\n",
    "    plt.title(int(sample_labels[i]), size=20)"
   ]
  },
  {
   "cell_type": "code",
   "execution_count": 7,
   "metadata": {},
   "outputs": [],
   "source": [
    "class Classifier:\n",
    "    '''\n",
    "    general class for prediction score and confusion matrix'''\n",
    "    \n",
    "    def score(self, y_prediction, y_test_set):\n",
    "        return np.mean(y_prediction == y_test_set)\n",
    "    \n",
    "    def confusion_matrix(self, y_true, y_predicted):\n",
    "        size = len(np.unique(y_true)) # or set(y_true)\n",
    "        conf_matrix = np.zeros((size,size), dtype=np.int32)\n",
    "        \n",
    "        for y_label, pred_lable in zip(y_true, y_predicted):\n",
    "            conf_matrix[int(y_label)][int(pred_lable)] += 1\n",
    "        \n",
    "        return conf_matrix"
   ]
  },
  {
   "cell_type": "markdown",
   "metadata": {},
   "source": [
    "Predict: \n",
    "\n",
    "For each class, calculate the probability (using previously calculated average vector / covariance matrix) and then predict the class with highest probability"
   ]
  },
  {
   "cell_type": "code",
   "execution_count": 8,
   "metadata": {},
   "outputs": [],
   "source": [
    "#separating train set into distinct 10 sets\n",
    "class_types = np.unique(y_train)\n",
    "grouped_X = []\n",
    "for i in range(len(class_types)):\n",
    "    grouped_X.append(X_train[y_train == i])"
   ]
  },
  {
   "cell_type": "code",
   "execution_count": 9,
   "metadata": {},
   "outputs": [],
   "source": [
    "def mean(X):\n",
    "    '''\n",
    "    mean of each class X in dataset\n",
    "    parameter: \n",
    "        X: nd array of each class\n",
    "    returns:\n",
    "        mean : shape (256,)\n",
    "    '''\n",
    "    return np.mean(X, axis = 0)"
   ]
  },
  {
   "cell_type": "code",
   "execution_count": 10,
   "metadata": {},
   "outputs": [],
   "source": [
    "mu1 = mean(grouped_X[0])"
   ]
  },
  {
   "cell_type": "code",
   "execution_count": 11,
   "metadata": {},
   "outputs": [],
   "source": [
    "def covariance_matrix(X, mu):\n",
    "    '''\n",
    "    Covariance of each class X in dataset\n",
    "    parameter: \n",
    "        X: nd array of each class: in grouped_X \n",
    "        mu : mean of individual class: in grouped_X \n",
    "    returns:\n",
    "        covariance_matrix : shape (256, 256)\n",
    "    '''\n",
    "    num_samples = len(X)\n",
    "    X_centered = X - mu # mu is subtracted from all rows of X\n",
    "    cov = X_centered.transpose().dot(X_centered) / num_samples\n",
    "    return cov"
   ]
  },
  {
   "cell_type": "code",
   "execution_count": 89,
   "metadata": {},
   "outputs": [],
   "source": [
    "def covariance_matrix_regularised(cov_matrix, alpha):\n",
    "    '''\n",
    "    Covariance of each class X in dataset if det(X) == 0\n",
    "    parameter: \n",
    "        cov_matrix: covariance_matrix of a class \n",
    "        alpha: parameter for regularisation by running method \n",
    "    returns:\n",
    "        regularised covariance_matrix : shape (256, 256)\n",
    "    '''\n",
    "    size = cov_matrix.shape[1]# num of data features \n",
    "    cov_reg = np.eye(size) * alpha + (1 - alpha) * cov_matrix\n",
    "    while np.linalg.det(cov_matrix) == 0:\n",
    "            cov_matrix = alpha* np.eye(size) + (1-alpha)*cov_matrix\n",
    "            alpha = alpha + 0.01\n",
    "    return cov_reg"
   ]
  },
  {
   "cell_type": "code",
   "execution_count": 56,
   "metadata": {},
   "outputs": [
    {
     "data": {
      "text/plain": [
       "(256, 256)"
      ]
     },
     "execution_count": 56,
     "metadata": {},
     "output_type": "execute_result"
    }
   ],
   "source": [
    "covariance_matrix(grouped_X[0], mu1).shape"
   ]
  },
  {
   "cell_type": "code",
   "execution_count": 95,
   "metadata": {},
   "outputs": [],
   "source": [
    "def log_gaussian_pdf(X, mu, sigma):\n",
    "    # log probability of a class,\n",
    "    k = 256 # dimension\n",
    "    log_normalization_term = -k/2 * np.log(2 * np.pi) - 0.5*np.log(np.linalg.det(sigma))\n",
    "    exponent = -0.5 * np.sum((X - mu).transpose() * (np.linalg.inv(sigma).dot((X - mu).transpose())), axis=0)\n",
    "    #c = -0.5 * np.dot((X - mu).T, np.dot(np.linalg.inv(sigma), (X - mu)))\n",
    "    return log_normalization_term + exponent"
   ]
  },
  {
   "cell_type": "code",
   "execution_count": 92,
   "metadata": {},
   "outputs": [],
   "source": [
    "def log_gaussian_pdf(X, sigma, mu):\n",
    "    dim = 256\n",
    "    log_normalization_term = -dim/2 * np.log(2 * np.pi) - 0.5*np.log(np.linalg.det(sigma))\n",
    "    \n",
    "    X_centered = X - mu\n",
    "    exponent = -0.5 * np.sum((X - mu).transpose() * (np.linalg.inv(sigma).dot((X - mu).transpose())), axis=0)   \n",
    "    # equivalent to\n",
    "    # exponent = -0.5 * np.diagonal(X_centered.dot(np.linalg.inv(sigma).dot(X_centered.transpose())))\n",
    "    \n",
    "    \n",
    "    return log_normalization_term + exponent"
   ]
  },
  {
   "cell_type": "code",
   "execution_count": 73,
   "metadata": {},
   "outputs": [],
   "source": [
    "pred_label_list = np.zeros(shape=(3, 10))"
   ]
  },
  {
   "cell_type": "code",
   "execution_count": 74,
   "metadata": {},
   "outputs": [
    {
     "data": {
      "text/plain": [
       "array([[0., 0., 0., 0., 0., 0., 0., 0., 0., 0.],\n",
       "       [0., 0., 0., 0., 0., 0., 0., 0., 0., 0.],\n",
       "       [0., 0., 0., 0., 0., 0., 0., 0., 0., 0.]])"
      ]
     },
     "execution_count": 74,
     "metadata": {},
     "output_type": "execute_result"
    }
   ],
   "source": [
    "pred_label_list"
   ]
  },
  {
   "cell_type": "code",
   "execution_count": 84,
   "metadata": {},
   "outputs": [],
   "source": [
    "class Guass_classifier(Classifier):\n",
    "    \n",
    "    def fit(self, X, y):\n",
    "        self.labels = np.unique(y)\n",
    "        self.means = []\n",
    "        self.covariances = []\n",
    "        group_X = []\n",
    "        for i in range(len(self.labels)):\n",
    "            group_X.append(X[y == i]) # grouping same label data points\n",
    "            mu = mean(group_X[-1])\n",
    "            self.means.append(mu)\n",
    "            cov = covariance_matrix(group_X[-1], mu)\n",
    "            if np.linalg.det(cov) == 0.0:\n",
    "                cov = covariance_matrix_regularised(cov, mu)\n",
    "            self.covariances.append(cov)        \n",
    "        \n",
    "    \n",
    "    def predict(self, x):\n",
    "        '''predicts the class for new input with most log probability\n",
    "        posteriar probability:  p(C|X) = p(X)\n",
    "        X: test set\n",
    "        returns \n",
    "        '''\n",
    "        pred_label_list = np.zeros(10)\n",
    "        for i in range(10):\n",
    "            print(self.covariances[i].shape)\n",
    "            pred_label_list[i] = log_gaussian_pdf(x, self.means[i], self.covariances[i])    \n",
    "        return np.argmax(pred_label_list) \n",
    "    \n",
    "    \n",
    "    def predict_all(self, X):\n",
    "        #prediction looping over all data samples\n",
    "        result = np.zeros(len(X))\n",
    "        for i in range(len(X)):\n",
    "            result[i] = self.predict(X[i])\n",
    "        return result"
   ]
  },
  {
   "cell_type": "code",
   "execution_count": null,
   "metadata": {},
   "outputs": [],
   "source": [
    "#y_pred = clf.predict_all(X_test)\n",
    "score = np.mean(y_pred == y_test)\n",
    "print(\"score: {}\".format(score))\n",
    "cm = clf.confusion_matrix(y_test, y_pred)\n",
    "print(\"confusion matrix: (rows=y_true columns=y_predicted)\")\n",
    "labels = range(10)\n",
    "print(pd.DataFrame(cm, index=labels, columns=labels))"
   ]
  },
  {
   "cell_type": "code",
   "execution_count": 96,
   "metadata": {},
   "outputs": [
    {
     "name": "stderr",
     "output_type": "stream",
     "text": [
      "/opt/anaconda3/lib/python3.7/site-packages/ipykernel_launcher.py:4: RuntimeWarning: invalid value encountered in log\n",
      "  after removing the cwd from sys.path.\n"
     ]
    }
   ],
   "source": [
    "clf = Guass_classifier()\n",
    "clf.fit(X_train, y_train)\n",
    "pred_label_list = np.zeros(10)\n",
    "for i in range(10):\n",
    "    pred_label_list[i] = log_gaussian_pdf(X_test[0], clf.means[i], clf.covariances[i])    \n",
    "    vv = np.argmax(pred_label_list)"
   ]
  },
  {
   "cell_type": "code",
   "execution_count": null,
   "metadata": {},
   "outputs": [],
   "source": []
  },
  {
   "cell_type": "code",
   "execution_count": null,
   "metadata": {},
   "outputs": [],
   "source": []
  }
 ],
 "metadata": {
  "kernelspec": {
   "display_name": "Python 3",
   "language": "python",
   "name": "python3"
  },
  "language_info": {
   "codemirror_mode": {
    "name": "ipython",
    "version": 3
   },
   "file_extension": ".py",
   "mimetype": "text/x-python",
   "name": "python",
   "nbconvert_exporter": "python",
   "pygments_lexer": "ipython3",
   "version": "3.7.6"
  }
 },
 "nbformat": 4,
 "nbformat_minor": 4
}

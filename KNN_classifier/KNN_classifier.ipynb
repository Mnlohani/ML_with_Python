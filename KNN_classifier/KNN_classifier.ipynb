{
 "cells": [
  {
   "cell_type": "markdown",
   "metadata": {},
   "source": [
    "# KNN Classifier \n",
    "\n",
    "Digit dataset: https://web.stanford.edu/~hastie/ElemStatLearn/datasets/zip.train.gz"
   ]
  },
  {
   "cell_type": "code",
   "execution_count": 1,
   "metadata": {},
   "outputs": [],
   "source": [
    "import os\n",
    "import pandas as pd\n",
    "import numpy as np\n",
    "import matplotlib.pyplot as plt\n",
    "%matplotlib inline\n",
    "\n",
    "if not os.path.exists(\"zip.train\"):\n",
    "  ! wget https://web.stanford.edu/~hastie/ElemStatLearn/datasets/zip.train.gz\n",
    "  ! gunzip zip.train.gz\n",
    "    \n",
    "if not os.path.exists(\"zip.test\"):\n",
    "  ! wget https://web.stanford.edu/~hastie/ElemStatLearn/datasets/zip.test.gz\n",
    "  ! gunzip zip.test.gz"
   ]
  },
  {
   "cell_type": "code",
   "execution_count": 2,
   "metadata": {},
   "outputs": [],
   "source": [
    "def load_from_file(path):\n",
    "    '''load the dataset\n",
    "    returns\n",
    "    X: data (256 color values as 16*16 image)\n",
    "    Y: label(digit)\n",
    "    '''\n",
    "    df = pd.read_csv(path, header=None, sep=\" \")\n",
    "    X = df.iloc[:, 1:257].values\n",
    "    y = df.iloc[:,0].values\n",
    "    return X, y"
   ]
  },
  {
   "cell_type": "code",
   "execution_count": 3,
   "metadata": {},
   "outputs": [],
   "source": [
    "# Training and test data load\n",
    "X_train, y_train = load_from_file(\"zip.train\")\n",
    "X_test, y_test = load_from_file(\"zip.test\")  "
   ]
  },
  {
   "cell_type": "code",
   "execution_count": 4,
   "metadata": {},
   "outputs": [
    {
     "name": "stdout",
     "output_type": "stream",
     "text": [
      "N_train = 7291\n",
      "N_test = 2007\n"
     ]
    }
   ],
   "source": [
    "#shape of training and test set\n",
    "print(\"N_train = {}\".format(len(X_train)))\n",
    "print(\"N_test = {}\".format(len(X_test)))"
   ]
  },
  {
   "cell_type": "markdown",
   "metadata": {},
   "source": [
    "# Data Visulisation"
   ]
  },
  {
   "cell_type": "code",
   "execution_count": 6,
   "metadata": {},
   "outputs": [],
   "source": [
    "num_samples = 20\n",
    "indices = np.random.choice(range(len(X_train)), num_samples)\n",
    "sample_digits = X_train[indices]\n",
    "sample_labels = y_train[indices]"
   ]
  },
  {
   "cell_type": "code",
   "execution_count": 7,
   "metadata": {},
   "outputs": [
    {
     "name": "stdout",
     "output_type": "stream",
     "text": [
      "[5993 3736 7113 6698 2622 3409 2731 6686 4625  661 3970 2440  617 5370\n",
      " 6011  855 4945 4276 4176 3151]\n",
      "[9. 6. 2. 1. 0. 8. 3. 5. 5. 3. 3. 7. 3. 4. 4. 6. 0. 9. 5. 3.]\n"
     ]
    }
   ],
   "source": [
    "print(indices)\n",
    "print(sample_labels)"
   ]
  },
  {
   "cell_type": "code",
   "execution_count": 8,
   "metadata": {},
   "outputs": [
    {
     "data": {
      "image/png": "[encoded data removed]",
      "text/plain": [
       "<Figure size 1440x432 with 20 Axes>"
      ]
     },
     "metadata": {
      "needs_background": "light"
     },
     "output_type": "display_data"
    }
   ],
   "source": [
    "fig = plt.figure(figsize=(20, 6))\n",
    "for i in range(num_samples):\n",
    "    ax = plt.subplot(2, 10, i + 1)\n",
    "    img = sample_digits[i].reshape((16, 16))\n",
    "    plt.imshow(img, cmap='gray', vmin=-1.0, vmax=1.0)\n",
    "    plt.axis('off')\n",
    "    plt.title(int(sample_labels[i]), size=20)"
   ]
  },
  {
   "cell_type": "markdown",
   "metadata": {},
   "source": [
    "# Implementation With Numpy in procedural way"
   ]
  },
  {
   "cell_type": "code",
   "execution_count": 143,
   "metadata": {},
   "outputs": [],
   "source": [
    "def find_label(set_x, set_y, point, k):\n",
    "    '''outputs the kth Nearest neighbour\n",
    "    i/p \n",
    "    set_x: training data\n",
    "    set_y: training targets\n",
    "    point : a single data in test set\n",
    "    k : value for k in k-NN e.g, (1-NN, 2-NN, 3-NN ...)\n",
    "    '''\n",
    "    dist = np.linalg.norm(set_x - point, axis =1)\n",
    "    sorted_index = np.argsort(dist)\n",
    "    k_list = np.zeros(k)\n",
    "    for i in range(k):\n",
    "        k_list[i] = set_y[sorted_index[i]]    \n",
    "    label = np.argmax(np.bincount(k_list.astype(int)))\n",
    "    return label"
   ]
  },
  {
   "cell_type": "code",
   "execution_count": 64,
   "metadata": {},
   "outputs": [
    {
     "name": "stdout",
     "output_type": "stream",
     "text": [
      "[[355.   0.   2.   0.   0.   0.   0.   1.   0.   1.]\n",
      " [  0. 255.   0.   0.   6.   0.   2.   1.   0.   0.]\n",
      " [  6.   1. 183.   2.   1.   0.   0.   2.   3.   0.]\n",
      " [  3.   0.   2. 154.   0.   5.   0.   0.   0.   2.]\n",
      " [  0.   3.   1.   0. 182.   1.   2.   2.   1.   8.]\n",
      " [  2.   1.   2.   4.   0. 145.   2.   0.   3.   1.]\n",
      " [  0.   0.   1.   0.   2.   3. 164.   0.   0.   0.]\n",
      " [  0.   1.   1.   1.   4.   0.   0. 139.   0.   1.]\n",
      " [  5.   0.   1.   6.   1.   1.   0.   1. 148.   3.]\n",
      " [  0.   0.   1.   0.   2.   0.   0.   4.   1. 169.]]\n"
     ]
    }
   ],
   "source": [
    "k=1\n",
    "num_itr = len(y_test)\n",
    "pred_label = np.zeros(len(y_train)).astype(int)\n",
    "true_label = np.zeros(len(y_train)).astype(int)\n",
    "conf_matrix = np.zeros(shape = (10,10))\n",
    "\n",
    "for i in range(num_itr):\n",
    "    pred_label[i] = find_label(X_train, y_train, X_test[i], k)\n",
    "    true_label[i] = int(y_test[i])\n",
    "    conf_matrix[true_label[i]][pred_label[i]] += 1\n",
    "\n",
    "print(conf_matrix)"
   ]
  },
  {
   "cell_type": "markdown",
   "metadata": {},
   "source": [
    "# With pythonic way in Class structure"
   ]
  },
  {
   "cell_type": "code",
   "execution_count": 132,
   "metadata": {},
   "outputs": [],
   "source": [
    "class Classifier:\n",
    "    def score(self, y_prediction, y_test_set):\n",
    "        return np.mean(y_prediction == y_test_set)\n",
    "    \n",
    "    def confusion_matrix(self, y_true, y_predicted):\n",
    "        size = len(np.unique(y_true)) # or set(y_true)\n",
    "        conf_matrix = np.zeros((size,size), dtype=np.int32)\n",
    "        \n",
    "        for y_label, pred_lable in zip(y_true, y_predicted):\n",
    "            conf_matrix[int(y_label)][int(pred_lable)] += 1\n",
    "        \n",
    "        return conf_matrix"
   ]
  },
  {
   "cell_type": "code",
   "execution_count": 133,
   "metadata": {},
   "outputs": [],
   "source": [
    "from operator import itemgetter\n",
    "\n",
    "class KNN(Classifier):\n",
    "    def __init__(self, k):\n",
    "        '''initialise \n",
    "        k: the number of nearest neighbours to found'''\n",
    "        self.k = k\n",
    "        \n",
    "    def fit(self, set_X, set_y):\n",
    "        'assigns training set'\n",
    "        self.set_X = set_X\n",
    "        self.set_y = set_y\n",
    "    \n",
    "    def predict(self, set_X):\n",
    "        'predicts Nearest Neigbhour list for test dataset'\n",
    "        return np.array(list(map(self.predict_single, set_X)))\n",
    "    \n",
    "    def predict_single(self, x):\n",
    "        'predicts Nearest Neigbhour for a single data'\n",
    "        neighbour_count = np.zeros(self.k)\n",
    "        k_neighbours = self.find_k_closest_neighbours(x)\n",
    "        \n",
    "        for i, (candidate_label, distance_) in enumerate(k_neighbours):\n",
    "            neighbour_count[i] = candidate_label\n",
    "        \n",
    "        label = np.argmax(np.bincount(neighbour_count.astype(int)))\n",
    "        return label\n",
    "    \n",
    "    def find_k_closest_neighbours(self, x):\n",
    "        'returns k closest Neigbhours for a single data with distances'\n",
    "        distance = np.linalg.norm(self.set_X - x, axis =1)\n",
    "        candidates = zip(self.set_y, distance)\n",
    "        closest_points = sorted(candidates, key=itemgetter(1))[:self.k]\n",
    "        return closest_points\n",
    "        "
   ]
  },
  {
   "cell_type": "code",
   "execution_count": 134,
   "metadata": {},
   "outputs": [],
   "source": [
    "knn = KNN(3)\n",
    "knn.fit(X_train, y_train)\n",
    "y_pred = knn.predict(X_test)"
   ]
  },
  {
   "cell_type": "code",
   "execution_count": 136,
   "metadata": {},
   "outputs": [
    {
     "name": "stdout",
     "output_type": "stream",
     "text": [
      "[[355   0   3   0   0   0   0   0   0   1]\n",
      " [  0 258   0   0   3   0   2   1   0   0]\n",
      " [  8   0 183   1   1   0   0   2   3   0]\n",
      " [  3   0   2 153   0   6   0   1   0   1]\n",
      " [  0   2   0   0 183   2   2   2   1   8]\n",
      " [  5   0   3   3   0 144   0   0   1   4]\n",
      " [  3   1   1   0   2   0 163   0   0   0]\n",
      " [  0   1   1   1   4   0   0 138   1   1]\n",
      " [  4   0   3   4   0   1   0   1 151   2]\n",
      " [  2   0   0   0   3   0   0   4   0 168]]\n"
     ]
    }
   ],
   "source": [
    "knn.score(y_pred, y_test)\n",
    "cm = knn.confusion_matrix(y_test, y_pred)\n",
    "print(cm)"
   ]
  },
  {
   "cell_type": "markdown",
   "metadata": {},
   "source": [
    "# Check with sklearn"
   ]
  },
  {
   "cell_type": "code",
   "execution_count": 137,
   "metadata": {},
   "outputs": [],
   "source": [
    "from sklearn.neighbors import KNeighborsClassifier\n",
    "from sklearn.metrics import confusion_matrix"
   ]
  },
  {
   "cell_type": "code",
   "execution_count": 142,
   "metadata": {},
   "outputs": [
    {
     "name": "stdout",
     "output_type": "stream",
     "text": [
      "k = 3\n",
      "classification score: 0.9446935724962631\n",
      "confusion matrix: (rows=y_true columns=y_predicted)\n",
      "     0    1    2    3    4    5    6    7    8    9\n",
      "0  355    0    3    0    0    0    0    0    0    1\n",
      "1    0  258    0    0    3    0    2    1    0    0\n",
      "2    8    0  183    1    1    0    0    2    3    0\n",
      "3    3    0    2  153    0    6    0    1    0    1\n",
      "4    0    2    0    0  183    2    2    2    1    8\n",
      "5    5    0    3    3    0  144    0    0    1    4\n",
      "6    3    1    1    0    2    0  163    0    0    0\n",
      "7    0    1    1    1    4    0    0  138    1    1\n",
      "8    4    0    3    4    0    1    0    1  151    2\n",
      "9    2    0    0    0    3    0    0    4    0  168\n"
     ]
    }
   ],
   "source": [
    "KNeighborsClassifier(n_neighbors=3)\n",
    "knn.fit(X_train, y_train)\n",
    "y_pred = knn.predict(X_test)\n",
    "score = np.mean(y_pred == y_test)\n",
    "cm = confusion_matrix(y_test, y_pred)\n",
    "print(\"k = {}\".format(3))\n",
    "print(\"classification score: {}\".format(score))\n",
    "print(\"confusion matrix: (rows=y_true columns=y_predicted)\")\n",
    "print(pd.DataFrame(cm, index=range(10), columns=range(10)))"
   ]
  }
 ],
 "metadata": {
  "kernelspec": {
   "display_name": "Python 3",
   "language": "python",
   "name": "python3"
  },
  "language_info": {
   "codemirror_mode": {
    "name": "ipython",
    "version": 3
   },
   "file_extension": ".py",
   "mimetype": "text/x-python",
   "name": "python",
   "nbconvert_exporter": "python",
   "pygments_lexer": "ipython3",
   "version": "3.7.6"
  }
 },
 "nbformat": 4,
 "nbformat_minor": 4
}
